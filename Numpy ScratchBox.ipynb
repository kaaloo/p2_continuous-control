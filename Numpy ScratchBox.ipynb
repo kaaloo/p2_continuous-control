{
 "metadata": {
  "language_info": {
   "codemirror_mode": {
    "name": "ipython",
    "version": 3
   },
   "file_extension": ".py",
   "mimetype": "text/x-python",
   "name": "python",
   "nbconvert_exporter": "python",
   "pygments_lexer": "ipython3",
   "version": "3.6.12-final"
  },
  "orig_nbformat": 2,
  "kernelspec": {
   "name": "python3",
   "display_name": "Python 3"
  }
 },
 "nbformat": 4,
 "nbformat_minor": 2,
 "cells": [
  {
   "source": [
    "# Numpy ScratchBox\n",
    "## Imports"
   ],
   "cell_type": "markdown",
   "metadata": {}
  },
  {
   "cell_type": "code",
   "execution_count": 1,
   "metadata": {},
   "outputs": [],
   "source": [
    "import numpy as np"
   ]
  },
  {
   "source": [
    "## Creating a Mini Batch of Actions\n",
    "There are `num_agents` agents in an environment with an action space of size `action_size`."
   ],
   "cell_type": "markdown",
   "metadata": {}
  },
  {
   "cell_type": "code",
   "execution_count": 2,
   "metadata": {},
   "outputs": [],
   "source": [
    "num_agents = 4\n",
    "action_size = 2"
   ]
  },
  {
   "source": [
    "We wish to send a mini batch of actions of size `mini_batch_size` to the agent so it can better learn about the position and the velocity of the agent."
   ],
   "cell_type": "markdown",
   "metadata": {}
  },
  {
   "cell_type": "code",
   "execution_count": 3,
   "metadata": {},
   "outputs": [],
   "source": [
    "mini_batch_size = 3"
   ]
  },
  {
   "source": [
    "We hold the mini batch in an `actions_mb` numpy array of shape (3, 4, 2)"
   ],
   "cell_type": "markdown",
   "metadata": {}
  },
  {
   "cell_type": "code",
   "execution_count": 4,
   "metadata": {},
   "outputs": [],
   "source": [
    "actions_mb = np.array([])"
   ]
  },
  {
   "source": [
    "The agent chooses a set of actions."
   ],
   "cell_type": "markdown",
   "metadata": {}
  },
  {
   "cell_type": "code",
   "execution_count": 5,
   "metadata": {},
   "outputs": [],
   "source": [
    "actions = np.random.rand(num_agents, action_size)"
   ]
  },
  {
   "source": [
    "To add actions to the the mini batch we need to add a new dimension in front corresponding to the mini batch dimension."
   ],
   "cell_type": "markdown",
   "metadata": {}
  },
  {
   "cell_type": "code",
   "execution_count": 6,
   "metadata": {},
   "outputs": [],
   "source": [
    "actions_mb = actions[np.newaxis, :]"
   ]
  },
  {
   "source": [
    "Let's generate a new set of actions"
   ],
   "cell_type": "markdown",
   "metadata": {}
  },
  {
   "cell_type": "code",
   "execution_count": 7,
   "metadata": {},
   "outputs": [],
   "source": [
    "actions = np.random.rand(num_agents, action_size)"
   ]
  },
  {
   "source": [
    "And add them to the mini batch."
   ],
   "cell_type": "markdown",
   "metadata": {}
  },
  {
   "cell_type": "code",
   "execution_count": 8,
   "metadata": {},
   "outputs": [],
   "source": [
    "actions_mb = np.append(actions_mb, actions[np.newaxis, :], axis=0)"
   ]
  },
  {
   "source": [
    "Let's add one last set of actions to the mini batch"
   ],
   "cell_type": "markdown",
   "metadata": {}
  },
  {
   "cell_type": "code",
   "execution_count": 9,
   "metadata": {},
   "outputs": [],
   "source": [
    "actions = np.random.rand(num_agents, action_size)\n",
    "actions_mb = np.append(actions_mb, actions[np.newaxis, :], axis=0)"
   ]
  },
  {
   "source": [
    "Another way to accomplish this is using list comprehension."
   ],
   "cell_type": "markdown",
   "metadata": {}
  },
  {
   "cell_type": "code",
   "execution_count": 14,
   "metadata": {},
   "outputs": [],
   "source": [
    "actions_mb = np.array([np.random.rand(num_agents, action_size) for _ in range(mini_batch_size)])"
   ]
  },
  {
   "cell_type": "code",
   "execution_count": null,
   "metadata": {},
   "outputs": [],
   "source": []
  }
 ]
}